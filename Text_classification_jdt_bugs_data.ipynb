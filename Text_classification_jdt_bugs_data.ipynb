{
 "cells": [
  {
   "cell_type": "code",
   "execution_count": 60,
   "id": "edce6537",
   "metadata": {
    "ExecuteTime": {
     "end_time": "2023-03-07T22:03:02.644470Z",
     "start_time": "2023-03-07T22:03:02.641900Z"
    }
   },
   "outputs": [],
   "source": [
    "import pandas as pd"
   ]
  },
  {
   "cell_type": "code",
   "execution_count": 61,
   "id": "fbc0e3f5",
   "metadata": {
    "ExecuteTime": {
     "end_time": "2023-03-07T22:03:03.785525Z",
     "start_time": "2023-03-07T22:03:02.856016Z"
    }
   },
   "outputs": [],
   "source": [
    "df = pd.read_csv('data/jdt-bugs-dataset/eclipse_jdt.csv.gz')"
   ]
  },
  {
   "cell_type": "code",
   "execution_count": 62,
   "id": "28cc5932",
   "metadata": {
    "ExecuteTime": {
     "end_time": "2023-03-07T22:03:03.809845Z",
     "start_time": "2023-03-07T22:03:03.802852Z"
    }
   },
   "outputs": [
    {
     "data": {
      "text/html": [
       "<div>\n",
       "<style scoped>\n",
       "    .dataframe tbody tr th:only-of-type {\n",
       "        vertical-align: middle;\n",
       "    }\n",
       "\n",
       "    .dataframe tbody tr th {\n",
       "        vertical-align: top;\n",
       "    }\n",
       "\n",
       "    .dataframe thead th {\n",
       "        text-align: right;\n",
       "    }\n",
       "</style>\n",
       "<table border=\"1\" class=\"dataframe\">\n",
       "  <thead>\n",
       "    <tr style=\"text-align: right;\">\n",
       "      <th></th>\n",
       "      <th>Issue_id</th>\n",
       "      <th>Priority</th>\n",
       "      <th>Component</th>\n",
       "      <th>Duplicated_issue</th>\n",
       "      <th>Title</th>\n",
       "      <th>Description</th>\n",
       "      <th>Status</th>\n",
       "      <th>Resolution</th>\n",
       "      <th>Version</th>\n",
       "      <th>Created_time</th>\n",
       "      <th>Resolved_time</th>\n",
       "    </tr>\n",
       "  </thead>\n",
       "  <tbody>\n",
       "    <tr>\n",
       "      <th>0</th>\n",
       "      <td>1518</td>\n",
       "      <td>P1</td>\n",
       "      <td>Debug</td>\n",
       "      <td>NaN</td>\n",
       "      <td>Icons needed for actions (1GI5UXW)</td>\n",
       "      <td>JGS (8/8/01 5:20:19 PM); \\tWe need enabled; disabled &amp; hover icons for the following actions:; \\t\\tCopyToClipboardActionDelegate; \\t\\tRelaunchActionDelegate; \\t\\tTerminateAndRemoveActionDelegate; ; DW (9/24/2001 2:22:48 PM); \\tUse the standard copy icon for copy to clipboard (desktop likely exposes it).; ; DW (9/24/2001 2:23:05 PM); \\tMade requests for; \\t\\tRelaunch; \\t\\tTerminate All; \\t\\tTerminate &amp; Remove</td>\n",
       "      <td>VERIFIED</td>\n",
       "      <td>FIXED</td>\n",
       "      <td>2.0</td>\n",
       "      <td>2001-10-10 22:14:00 -0400</td>\n",
       "      <td>2001-10-18 11:51:14 -0400</td>\n",
       "    </tr>\n",
       "    <tr>\n",
       "      <th>1</th>\n",
       "      <td>1519</td>\n",
       "      <td>P3</td>\n",
       "      <td>Debug</td>\n",
       "      <td>NaN</td>\n",
       "      <td>README: Hit count not reset (1GET20Y)</td>\n",
       "      <td>JGS (6/4/01 11:43:47 AM); \\tSet a breakpoint in InfiniteLoop with a hit count.  When suspended;; \\tright click breakpoint in Breakpoints viewer and enable.  Hit count; \\tstays at previous value.  Should it be reset to zero?; ; DW (6/4/01 11:50:23 AM); \\tThis should just re-enable the breakpoint with the previous hit-count.; ; DS (6/4/2001 11:50:31 AM); \\tTo change a hit count breakpoint into a normal breakpoint; you set its hit count to zero.; \\tThis should likely be a readme item.; ; DW (6/4/01 6:33:43 PM); \\tMake into a README.; ; DW (6/15/01 9:45:55 AM); \\tAdded to README.</td>\n",
       "      <td>RESOLVED</td>\n",
       "      <td>WORKSFORME</td>\n",
       "      <td>2.0</td>\n",
       "      <td>2001-10-10 22:14:00 -0400</td>\n",
       "      <td>2001-11-28 13:42:46 -0500</td>\n",
       "    </tr>\n",
       "    <tr>\n",
       "      <th>2</th>\n",
       "      <td>1520</td>\n",
       "      <td>P3</td>\n",
       "      <td>Debug</td>\n",
       "      <td>NaN</td>\n",
       "      <td>Use styled text in console (1G9S1YF)</td>\n",
       "      <td>DW (2/26/01 5:56:36 PM); \\tCould allow users to use styled text in console; with preference support. This would; \\tallow console input to be shown in bold; etc.</td>\n",
       "      <td>CLOSED</td>\n",
       "      <td>WONTFIX</td>\n",
       "      <td>2.0</td>\n",
       "      <td>2001-10-10 22:14:00 -0400</td>\n",
       "      <td>2002-06-26 11:32:05 -0400</td>\n",
       "    </tr>\n",
       "    <tr>\n",
       "      <th>3</th>\n",
       "      <td>1521</td>\n",
       "      <td>P3</td>\n",
       "      <td>Debug</td>\n",
       "      <td>NaN</td>\n",
       "      <td>StringBuffer representation (1GE3BFA)</td>\n",
       "      <td>JGS (5/21/01 2:09:10 PM); \\tTo be consistent; should we represent StringBuffer objects in the variables view like; \\twe do Strings; with their values shown on the top node; so the user doesnt have to; \\texpand the object and look at the char array?; ; DW (5/21/01 6:33:02 PM); \\tDeferred - requires an evaluation.</td>\n",
       "      <td>VERIFIED</td>\n",
       "      <td>FIXED</td>\n",
       "      <td>2.0</td>\n",
       "      <td>2001-10-10 22:14:00 -0400</td>\n",
       "      <td>2002-02-05 10:37:09 -0500</td>\n",
       "    </tr>\n",
       "    <tr>\n",
       "      <th>4</th>\n",
       "      <td>1522</td>\n",
       "      <td>P2</td>\n",
       "      <td>Debug</td>\n",
       "      <td>1663.0</td>\n",
       "      <td>Feature: use #toString to display variable values (1G1Y25J)</td>\n",
       "      <td>DW (9/27/00 11:12:31 AM); \\tCurrently; the type of an object is shown in the variables view for ; its value.; \\tOnly Strings and primitive types show concrete values. We should display; \\tthe toString() of each object as its value. ; ; DW (10/23/00 11:22:02 AM); \\tComments from CM:; ; \\tFirst I need to define thread &lt;g&gt; because there are 2 of them:; 1) when I say thread; I mean a Java Thread; i.e. an object of type ; java.lang.Thread; 2) when I say vm thread; I mean the debuggers represenation of a thread in ; the VM;; \\ti.e. an object of type com.oti.defrogger.model.DbgThread; ; So; when asked for an objects toString; the debugger creates a new thread; to do the following:; ; - lock the vm thread so that no other thread can invoke toString on that vm ; thread; ; - set a flag on the vm thread: fIsInvokingToString = true; ; - use INVOKE_SINGLE_THREADED to send toString() to the object in the vm thread; ; - set fIsInvokingToString = false; ; - unlock the vm thread; ; ; The fIsInvokingToString flag is checked on a breakpoint; watchpoint; or ; exception;; so that we dont stop on debugger-invoked toStrings.; ; The debugger will stop if the USER runs through a toString method in the ; ordinary; manner (if a breakpoint; watchpoint; or exception is encountered).; ; DS (10/23/2000 4:14:16 PM); \\t3 days; ; EG (11/8/00 4:54:47 PM); \\tIve worked with toString enabled for some time in VAME. It introduces ; both; \\tperformance and run-time behaviour problems. I had to switch it off ; \\teventually.; ; DW (12/7/00 5:14:30 PM); \\tCreated simple implementation that is not robust. Needs to account for; \\tbreakpoints; exceptions ; and timeouts.; ; DW (12/7/00 7:18:38 PM); \\tAdded breakpoint support; but did not release implementation into ; plugin file.; ; \\tIssue:; \\t\\tIf an infinite loop is hit; how can we stop it? It is a client ; thread - we cannot; \\t\\tkill it.; ; \\tA evaluation server thread would be cool; but I dont see how we can ; create; \\tone without adding code to the target - which cannot always do.; ; DW (12/8/00 9:26:18 AM); \\tFound that LeapFrog debugger does not handle infinite loops. For ; example:; ; public class Junky {; \\t; \\tpublic static void main(String[] args) {; \\t\\tJunky j = new Junky();; \\t\\tj.doit();; \\t\\t; \\t}; \\t; \\tpublic void doit() {; \\t\\tSystem.out.println(this.toString());; \\t}; \\t; \\tpublic String toString() {; \\t\\tint i = 0;; \\t\\tboolean yes = true;; \\t\\twhile (yes) {; \\t\\t\\ti++;; \\t\\t}; \\t\\treturn never;; \\t}; }; ; DW (12/8/00 9:40:38 AM); \\tLocking not handled either:; ; public class Lock {; \\t; \\tpublic synchronized void lock() {; \\t\\tSystem.out.println(While in this method; this is locked);; \\t\\tint i = 0;; \\t\\tboolean yes = true;; \\t\\twhile (yes) {; \\t\\t\\ti++;; \\t\\t}; \\t}; \\t; \\tpublic synchronized String toString() {; \\t\\treturn un-locked;; \\t}; }; ; public class Locking {; \\t; \\tpublic static void main(String[] args) {; \\t\\t(new Locking()).doit();; \\t}; \\t; \\tpublic void doit() {; \\t\\tfinal Lock lock = new Lock();; \\t\\tRunnable r1 = new Runnable() {; \\t\\t\\tpublic void run() {; \\t\\t\\t\\tlock.lock();; \\t\\t\\t}\\t; \\t\\t};; \\t\\t; \\t\\tThread t = new Thread(r1);; \\t\\tt.start();; \\t\\t; \\t\\tlock.hashCode();; \\t\\t; \\t\\tSystem.out.println(lock.toString());; \\t}; }; ; DW (12/8/00 12:13:39 PM); \\tMoved to inactive; as there is no safe way to do evaluation.; ; DW (10/2/01 1:16:46 PM); \\tUse pop-up text widget to display toString()</td>\n",
       "      <td>RESOLVED</td>\n",
       "      <td>DUPLICATE</td>\n",
       "      <td>2.0</td>\n",
       "      <td>2001-10-10 22:14:00 -0400</td>\n",
       "      <td>2001-10-17 10:17:47 -0400</td>\n",
       "    </tr>\n",
       "  </tbody>\n",
       "</table>\n",
       "</div>"
      ],
      "text/plain": [
       "   Issue_id Priority Component  Duplicated_issue  \\\n",
       "0      1518       P1     Debug               NaN   \n",
       "1      1519       P3     Debug               NaN   \n",
       "2      1520       P3     Debug               NaN   \n",
       "3      1521       P3     Debug               NaN   \n",
       "4      1522       P2     Debug            1663.0   \n",
       "\n",
       "                                                         Title  \\\n",
       "0                           Icons needed for actions (1GI5UXW)   \n",
       "1                        README: Hit count not reset (1GET20Y)   \n",
       "2                         Use styled text in console (1G9S1YF)   \n",
       "3                        StringBuffer representation (1GE3BFA)   \n",
       "4  Feature: use #toString to display variable values (1G1Y25J)   \n",
       "\n",
       "                                                                                                                                                                                                                                                                                                                                                                                                                                                                                                                                                                                                                                                                                                                                                                                                                                                                                                                                                                                                                                                                                                                                                                                                                                                                                                                                                                                                                                                                                                                                                                                                                                                                                                                                                                                                                                                                                                                                                                                                                                                                                                                                                                                                                                                                                                                                                                                                                                                                                                                                                                                                                                                                                                                                                                                                                                                                                                                                                                                                                                                                                                                                                                                                                                                                                                                                                                                                                                                                                                                                 Description  \\\n",
       "0                                                                                                                                                                                                                                                                                                                                                                                                                                                                                                                                                                                                                                                                                                                                                                                                                                                                                                                                                                                                                                                                                                                                                                                                                                                                                                                                                                                                                                                                                                                                                                                                                                                                                                                                                                                                                                                                                                                                                                                                                                                                                                                                                                                                                                                                                                                                                                                                                                                                                                                                                                                                                                                                                                                                                                                                                                                                                                                                                                                                                                                                                                                JGS (8/8/01 5:20:19 PM); \\tWe need enabled; disabled & hover icons for the following actions:; \\t\\tCopyToClipboardActionDelegate; \\t\\tRelaunchActionDelegate; \\t\\tTerminateAndRemoveActionDelegate; ; DW (9/24/2001 2:22:48 PM); \\tUse the standard copy icon for copy to clipboard (desktop likely exposes it).; ; DW (9/24/2001 2:23:05 PM); \\tMade requests for; \\t\\tRelaunch; \\t\\tTerminate All; \\t\\tTerminate & Remove   \n",
       "1                                                                                                                                                                                                                                                                                                                                                                                                                                                                                                                                                                                                                                                                                                                                                                                                                                                                                                                                                                                                                                                                                                                                                                                                                                                                                                                                                                                                                                                                                                                                                                                                                                                                                                                                                                                                                                                                                                                                                                                                                                                                                                                                                                                                                                                                                                                                                                                                                                                                                                                                                                                                                                                                                                                                                                                                                                                                                                                                     JGS (6/4/01 11:43:47 AM); \\tSet a breakpoint in InfiniteLoop with a hit count.  When suspended;; \\tright click breakpoint in Breakpoints viewer and enable.  Hit count; \\tstays at previous value.  Should it be reset to zero?; ; DW (6/4/01 11:50:23 AM); \\tThis should just re-enable the breakpoint with the previous hit-count.; ; DS (6/4/2001 11:50:31 AM); \\tTo change a hit count breakpoint into a normal breakpoint; you set its hit count to zero.; \\tThis should likely be a readme item.; ; DW (6/4/01 6:33:43 PM); \\tMake into a README.; ; DW (6/15/01 9:45:55 AM); \\tAdded to README.   \n",
       "2                                                                                                                                                                                                                                                                                                                                                                                                                                                                                                                                                                                                                                                                                                                                                                                                                                                                                                                                                                                                                                                                                                                                                                                                                                                                                                                                                                                                                                                                                                                                                                                                                                                                                                                                                                                                                                                                                                                                                                                                                                                                                                                                                                                                                                                                                                                                                                                                                                                                                                                                                                                                                                                                                                                                                                                                                                                                                                                                                                                                                                                                                                                                                                                                                                                                                                                                                                           DW (2/26/01 5:56:36 PM); \\tCould allow users to use styled text in console; with preference support. This would; \\tallow console input to be shown in bold; etc.   \n",
       "3                                                                                                                                                                                                                                                                                                                                                                                                                                                                                                                                                                                                                                                                                                                                                                                                                                                                                                                                                                                                                                                                                                                                                                                                                                                                                                                                                                                                                                                                                                                                                                                                                                                                                                                                                                                                                                                                                                                                                                                                                                                                                                                                                                                                                                                                                                                                                                                                                                                                                                                                                                                                                                                                                                                                                                                                                                                                                                                                                                                                                                                                                                                                                                                                                  JGS (5/21/01 2:09:10 PM); \\tTo be consistent; should we represent StringBuffer objects in the variables view like; \\twe do Strings; with their values shown on the top node; so the user doesnt have to; \\texpand the object and look at the char array?; ; DW (5/21/01 6:33:02 PM); \\tDeferred - requires an evaluation.   \n",
       "4  DW (9/27/00 11:12:31 AM); \\tCurrently; the type of an object is shown in the variables view for ; its value.; \\tOnly Strings and primitive types show concrete values. We should display; \\tthe toString() of each object as its value. ; ; DW (10/23/00 11:22:02 AM); \\tComments from CM:; ; \\tFirst I need to define thread <g> because there are 2 of them:; 1) when I say thread; I mean a Java Thread; i.e. an object of type ; java.lang.Thread; 2) when I say vm thread; I mean the debuggers represenation of a thread in ; the VM;; \\ti.e. an object of type com.oti.defrogger.model.DbgThread; ; So; when asked for an objects toString; the debugger creates a new thread; to do the following:; ; - lock the vm thread so that no other thread can invoke toString on that vm ; thread; ; - set a flag on the vm thread: fIsInvokingToString = true; ; - use INVOKE_SINGLE_THREADED to send toString() to the object in the vm thread; ; - set fIsInvokingToString = false; ; - unlock the vm thread; ; ; The fIsInvokingToString flag is checked on a breakpoint; watchpoint; or ; exception;; so that we dont stop on debugger-invoked toStrings.; ; The debugger will stop if the USER runs through a toString method in the ; ordinary; manner (if a breakpoint; watchpoint; or exception is encountered).; ; DS (10/23/2000 4:14:16 PM); \\t3 days; ; EG (11/8/00 4:54:47 PM); \\tIve worked with toString enabled for some time in VAME. It introduces ; both; \\tperformance and run-time behaviour problems. I had to switch it off ; \\teventually.; ; DW (12/7/00 5:14:30 PM); \\tCreated simple implementation that is not robust. Needs to account for; \\tbreakpoints; exceptions ; and timeouts.; ; DW (12/7/00 7:18:38 PM); \\tAdded breakpoint support; but did not release implementation into ; plugin file.; ; \\tIssue:; \\t\\tIf an infinite loop is hit; how can we stop it? It is a client ; thread - we cannot; \\t\\tkill it.; ; \\tA evaluation server thread would be cool; but I dont see how we can ; create; \\tone without adding code to the target - which cannot always do.; ; DW (12/8/00 9:26:18 AM); \\tFound that LeapFrog debugger does not handle infinite loops. For ; example:; ; public class Junky {; \\t; \\tpublic static void main(String[] args) {; \\t\\tJunky j = new Junky();; \\t\\tj.doit();; \\t\\t; \\t}; \\t; \\tpublic void doit() {; \\t\\tSystem.out.println(this.toString());; \\t}; \\t; \\tpublic String toString() {; \\t\\tint i = 0;; \\t\\tboolean yes = true;; \\t\\twhile (yes) {; \\t\\t\\ti++;; \\t\\t}; \\t\\treturn never;; \\t}; }; ; DW (12/8/00 9:40:38 AM); \\tLocking not handled either:; ; public class Lock {; \\t; \\tpublic synchronized void lock() {; \\t\\tSystem.out.println(While in this method; this is locked);; \\t\\tint i = 0;; \\t\\tboolean yes = true;; \\t\\twhile (yes) {; \\t\\t\\ti++;; \\t\\t}; \\t}; \\t; \\tpublic synchronized String toString() {; \\t\\treturn un-locked;; \\t}; }; ; public class Locking {; \\t; \\tpublic static void main(String[] args) {; \\t\\t(new Locking()).doit();; \\t}; \\t; \\tpublic void doit() {; \\t\\tfinal Lock lock = new Lock();; \\t\\tRunnable r1 = new Runnable() {; \\t\\t\\tpublic void run() {; \\t\\t\\t\\tlock.lock();; \\t\\t\\t}\\t; \\t\\t};; \\t\\t; \\t\\tThread t = new Thread(r1);; \\t\\tt.start();; \\t\\t; \\t\\tlock.hashCode();; \\t\\t; \\t\\tSystem.out.println(lock.toString());; \\t}; }; ; DW (12/8/00 12:13:39 PM); \\tMoved to inactive; as there is no safe way to do evaluation.; ; DW (10/2/01 1:16:46 PM); \\tUse pop-up text widget to display toString()   \n",
       "\n",
       "     Status  Resolution Version               Created_time  \\\n",
       "0  VERIFIED       FIXED     2.0  2001-10-10 22:14:00 -0400   \n",
       "1  RESOLVED  WORKSFORME     2.0  2001-10-10 22:14:00 -0400   \n",
       "2    CLOSED     WONTFIX     2.0  2001-10-10 22:14:00 -0400   \n",
       "3  VERIFIED       FIXED     2.0  2001-10-10 22:14:00 -0400   \n",
       "4  RESOLVED   DUPLICATE     2.0  2001-10-10 22:14:00 -0400   \n",
       "\n",
       "               Resolved_time  \n",
       "0  2001-10-18 11:51:14 -0400  \n",
       "1  2001-11-28 13:42:46 -0500  \n",
       "2  2002-06-26 11:32:05 -0400  \n",
       "3  2002-02-05 10:37:09 -0500  \n",
       "4  2001-10-17 10:17:47 -0400  "
      ]
     },
     "execution_count": 62,
     "metadata": {},
     "output_type": "execute_result"
    }
   ],
   "source": [
    "df.head()"
   ]
  },
  {
   "cell_type": "code",
   "execution_count": 63,
   "id": "4631d8da",
   "metadata": {
    "ExecuteTime": {
     "end_time": "2023-03-07T22:03:03.828353Z",
     "start_time": "2023-03-07T22:03:03.824450Z"
    }
   },
   "outputs": [
    {
     "data": {
      "text/plain": [
       "Index(['Issue_id', 'Priority', 'Component', 'Duplicated_issue', 'Title',\n",
       "       'Description', 'Status', 'Resolution', 'Version', 'Created_time',\n",
       "       'Resolved_time'],\n",
       "      dtype='object')"
      ]
     },
     "execution_count": 63,
     "metadata": {},
     "output_type": "execute_result"
    }
   ],
   "source": [
    "df.columns"
   ]
  },
  {
   "cell_type": "code",
   "execution_count": 64,
   "id": "c0c12cf1",
   "metadata": {
    "ExecuteTime": {
     "end_time": "2023-03-07T22:03:03.855794Z",
     "start_time": "2023-03-07T22:03:03.845241Z"
    }
   },
   "outputs": [
    {
     "data": {
      "text/html": [
       "<div>\n",
       "<style scoped>\n",
       "    .dataframe tbody tr th:only-of-type {\n",
       "        vertical-align: middle;\n",
       "    }\n",
       "\n",
       "    .dataframe tbody tr th {\n",
       "        vertical-align: top;\n",
       "    }\n",
       "\n",
       "    .dataframe thead th {\n",
       "        text-align: right;\n",
       "    }\n",
       "</style>\n",
       "<table border=\"1\" class=\"dataframe\">\n",
       "  <thead>\n",
       "    <tr style=\"text-align: right;\">\n",
       "      <th></th>\n",
       "      <th>Issue_id</th>\n",
       "      <th>Priority</th>\n",
       "      <th>Component</th>\n",
       "      <th>Title</th>\n",
       "      <th>Description</th>\n",
       "    </tr>\n",
       "  </thead>\n",
       "  <tbody>\n",
       "    <tr>\n",
       "      <th>24858</th>\n",
       "      <td>88563</td>\n",
       "      <td>P3</td>\n",
       "      <td>UI</td>\n",
       "      <td>[code manipulation] Offer implicit functions as override/implement options</td>\n",
       "      <td>A class that implements Cloneable may need to implement clone().; ; A class that implements Serializable may need to implement readObject/writeObject.; ; These special methods could usefully be offered as Source-&gt;Override/Implement; Methods options.</td>\n",
       "    </tr>\n",
       "    <tr>\n",
       "      <th>39012</th>\n",
       "      <td>253762</td>\n",
       "      <td>P3</td>\n",
       "      <td>UI</td>\n",
       "      <td>Extract Class throws NPE.</td>\n",
       "      <td>Build ID: I20081030-1917  (3.5M3); ; Possible duplicate of bug 253727; but different stack trace.; ; Steps To Reproduce:; 1. Please place the caret anywhere on LINE 9.; 2. Try to Extract Class.  See crash below in error log.; ; ----------------- Bug.java ----------------; import static org.eclipse.swt.SWT.*;; import org.eclipse.swt.events.*;; import org.eclipse.swt.widgets.*;; class Bug{;     ToolItem settings;    ; \\tBug(){; \\t\\t(settings=new ToolItem(null;NONE)).addSelectionListener(; \\t\\t\\t\\tnew SelectionAdapter(){; \\t\\t\\tint x; // LINE 9; \\t\\t\\t@Override; \\t\\t\\tpublic void widgetSelected(final SelectionEvent e){\\t\\t; \\t\\t\\t\\tnew Dialog(null;NONE){\\t\\t \\t\\t; \\t\\t\\t\\t\\tvoid open(){ ; \\t\\t\\t\\t\\t}; \\t\\t\\t\\t}.open();  ; \\t\\t\\t}});; \\t}; }; ; More information:; Caused by: java.lang.NullPointerException; \\tat org.eclipse.jdt.internal.corext.refactoring.structure.ExtractClassRefactoring.performFieldRewrite(ExtractClassRefactoring.java:713); \\tat org.eclipse.jdt.internal.corext.refactoring.structure.ExtractClassRefactoring.checkFinalConditions(ExtractClassRefactoring.java:359)</td>\n",
       "    </tr>\n",
       "  </tbody>\n",
       "</table>\n",
       "</div>"
      ],
      "text/plain": [
       "       Issue_id Priority Component  \\\n",
       "24858     88563       P3        UI   \n",
       "39012    253762       P3        UI   \n",
       "\n",
       "                                                                            Title  \\\n",
       "24858  [code manipulation] Offer implicit functions as override/implement options   \n",
       "39012                                                   Extract Class throws NPE.   \n",
       "\n",
       "                                                                                                                                                                                                                                                                                                                                                                                                                                                                                                                                                                                                                                                                                                                                                                                                                                                                                                                                                                                                                                                                                                                            Description  \n",
       "24858                                                                                                                                                                                                                                                                                                                                                                                                                                                                                                                                                                                                                                                                                                                                                                                                                                                                         A class that implements Cloneable may need to implement clone().; ; A class that implements Serializable may need to implement readObject/writeObject.; ; These special methods could usefully be offered as Source->Override/Implement; Methods options.  \n",
       "39012  Build ID: I20081030-1917  (3.5M3); ; Possible duplicate of bug 253727; but different stack trace.; ; Steps To Reproduce:; 1. Please place the caret anywhere on LINE 9.; 2. Try to Extract Class.  See crash below in error log.; ; ----------------- Bug.java ----------------; import static org.eclipse.swt.SWT.*;; import org.eclipse.swt.events.*;; import org.eclipse.swt.widgets.*;; class Bug{;     ToolItem settings;    ; \\tBug(){; \\t\\t(settings=new ToolItem(null;NONE)).addSelectionListener(; \\t\\t\\t\\tnew SelectionAdapter(){; \\t\\t\\tint x; // LINE 9; \\t\\t\\t@Override; \\t\\t\\tpublic void widgetSelected(final SelectionEvent e){\\t\\t; \\t\\t\\t\\tnew Dialog(null;NONE){\\t\\t \\t\\t; \\t\\t\\t\\t\\tvoid open(){ ; \\t\\t\\t\\t\\t}; \\t\\t\\t\\t}.open();  ; \\t\\t\\t}});; \\t}; }; ; More information:; Caused by: java.lang.NullPointerException; \\tat org.eclipse.jdt.internal.corext.refactoring.structure.ExtractClassRefactoring.performFieldRewrite(ExtractClassRefactoring.java:713); \\tat org.eclipse.jdt.internal.corext.refactoring.structure.ExtractClassRefactoring.checkFinalConditions(ExtractClassRefactoring.java:359)  "
      ]
     },
     "execution_count": 64,
     "metadata": {},
     "output_type": "execute_result"
    }
   ],
   "source": [
    "df[['Issue_id','Priority','Component','Title','Description']].sample(2)"
   ]
  },
  {
   "cell_type": "code",
   "execution_count": 65,
   "id": "66f0fefa",
   "metadata": {
    "ExecuteTime": {
     "end_time": "2023-03-07T22:03:03.875714Z",
     "start_time": "2023-03-07T22:03:03.869770Z"
    }
   },
   "outputs": [],
   "source": [
    "df = df.drop(columns=['Duplicated_issue'])"
   ]
  },
  {
   "cell_type": "code",
   "execution_count": 66,
   "id": "c4b8b99c",
   "metadata": {
    "ExecuteTime": {
     "end_time": "2023-03-07T22:03:03.895841Z",
     "start_time": "2023-03-07T22:03:03.890161Z"
    }
   },
   "outputs": [
    {
     "data": {
      "text/html": [
       "<div>\n",
       "<style scoped>\n",
       "    .dataframe tbody tr th:only-of-type {\n",
       "        vertical-align: middle;\n",
       "    }\n",
       "\n",
       "    .dataframe tbody tr th {\n",
       "        vertical-align: top;\n",
       "    }\n",
       "\n",
       "    .dataframe thead th {\n",
       "        text-align: right;\n",
       "    }\n",
       "</style>\n",
       "<table border=\"1\" class=\"dataframe\">\n",
       "  <thead>\n",
       "    <tr style=\"text-align: right;\">\n",
       "      <th></th>\n",
       "      <th>38438</th>\n",
       "    </tr>\n",
       "  </thead>\n",
       "  <tbody>\n",
       "    <tr>\n",
       "      <th>Issue_id</th>\n",
       "      <td>239715</td>\n",
       "    </tr>\n",
       "    <tr>\n",
       "      <th>Priority</th>\n",
       "      <td>P3</td>\n",
       "    </tr>\n",
       "    <tr>\n",
       "      <th>Component</th>\n",
       "      <td>UI</td>\n",
       "    </tr>\n",
       "    <tr>\n",
       "      <th>Title</th>\n",
       "      <td>No property tester for TestCaseElement for property projectNature</td>\n",
       "    </tr>\n",
       "    <tr>\n",
       "      <th>Description</th>\n",
       "      <td>I20080613-2000; ; Not sure if this belongs to JDT/Debug or Platform/Debug.; ; I saw this error message several times today in my error log but Im not yet sure how to reproduce it.; ; -- Error Details --; Date: Sun Jul 06 16:04:00 CEST 2008; Message: No property tester contributes a property org.eclipse.debug.ui.projectNature to type class org.eclipse.jdt.internal.junit.model.TestCaseElement; Severity: Error; Plugin: org.eclipse.core.expressions</td>\n",
       "    </tr>\n",
       "    <tr>\n",
       "      <th>Status</th>\n",
       "      <td>RESOLVED</td>\n",
       "    </tr>\n",
       "    <tr>\n",
       "      <th>Resolution</th>\n",
       "      <td>WORKSFORME</td>\n",
       "    </tr>\n",
       "    <tr>\n",
       "      <th>Version</th>\n",
       "      <td>3.4</td>\n",
       "    </tr>\n",
       "    <tr>\n",
       "      <th>Created_time</th>\n",
       "      <td>2008-07-06 10:07:00 -0400</td>\n",
       "    </tr>\n",
       "    <tr>\n",
       "      <th>Resolved_time</th>\n",
       "      <td>2009-04-24 09:09:02 -0400</td>\n",
       "    </tr>\n",
       "  </tbody>\n",
       "</table>\n",
       "</div>"
      ],
      "text/plain": [
       "                                                                                                                                                                                                                                                                                                                                                                                                                                                                          38438\n",
       "Issue_id                                                                                                                                                                                                                                                                                                                                                                                                                                                                 239715\n",
       "Priority                                                                                                                                                                                                                                                                                                                                                                                                                                                                     P3\n",
       "Component                                                                                                                                                                                                                                                                                                                                                                                                                                                                    UI\n",
       "Title                                                                                                                                                                                                                                                                                                                                                                                                         No property tester for TestCaseElement for property projectNature\n",
       "Description    I20080613-2000; ; Not sure if this belongs to JDT/Debug or Platform/Debug.; ; I saw this error message several times today in my error log but Im not yet sure how to reproduce it.; ; -- Error Details --; Date: Sun Jul 06 16:04:00 CEST 2008; Message: No property tester contributes a property org.eclipse.debug.ui.projectNature to type class org.eclipse.jdt.internal.junit.model.TestCaseElement; Severity: Error; Plugin: org.eclipse.core.expressions\n",
       "Status                                                                                                                                                                                                                                                                                                                                                                                                                                                                 RESOLVED\n",
       "Resolution                                                                                                                                                                                                                                                                                                                                                                                                                                                           WORKSFORME\n",
       "Version                                                                                                                                                                                                                                                                                                                                                                                                                                                                     3.4\n",
       "Created_time                                                                                                                                                                                                                                                                                                                                                                                                                                          2008-07-06 10:07:00 -0400\n",
       "Resolved_time                                                                                                                                                                                                                                                                                                                                                                                                                                         2009-04-24 09:09:02 -0400"
      ]
     },
     "execution_count": 66,
     "metadata": {},
     "output_type": "execute_result"
    }
   ],
   "source": [
    "pd.set_option('display.max_colwidth', None)\n",
    "df.sample(1, random_state=42).T"
   ]
  },
  {
   "cell_type": "code",
   "execution_count": 67,
   "id": "0aeb6a4e",
   "metadata": {
    "ExecuteTime": {
     "end_time": "2023-03-07T22:03:04.072425Z",
     "start_time": "2023-03-07T22:03:03.981408Z"
    }
   },
   "outputs": [
    {
     "data": {
      "image/png": "[encoded data removed]",
      "text/plain": [
       "<Figure size 640x480 with 1 Axes>"
      ]
     },
     "metadata": {},
     "output_type": "display_data"
    }
   ],
   "source": [
    "df['Priority'].value_counts().sort_index().plot(kind='bar');"
   ]
  },
  {
   "cell_type": "code",
   "execution_count": 68,
   "id": "12c4ba89",
   "metadata": {
    "ExecuteTime": {
     "end_time": "2023-03-07T22:03:05.288471Z",
     "start_time": "2023-03-07T22:03:05.276977Z"
    }
   },
   "outputs": [
    {
     "data": {
      "text/plain": [
       "UI       17479\n",
       "Core     13669\n",
       "Debug     7542\n",
       "Text      5901\n",
       "APT        406\n",
       "Doc        299\n",
       "Name: Component, dtype: int64"
      ]
     },
     "execution_count": 68,
     "metadata": {},
     "output_type": "execute_result"
    }
   ],
   "source": [
    "df['Component'].value_counts()"
   ]
  },
  {
   "cell_type": "markdown",
   "id": "87706bc6",
   "metadata": {},
   "source": [
    "# Building a Text Classification system"
   ]
  },
  {
   "cell_type": "code",
   "execution_count": 69,
   "id": "c3d34e11",
   "metadata": {
    "ExecuteTime": {
     "end_time": "2023-03-07T22:03:07.990151Z",
     "start_time": "2023-03-07T22:03:07.938745Z"
    }
   },
   "outputs": [],
   "source": [
    "df = df[['Title', 'Description', 'Priority', 'Component']]\n",
    "df = df.dropna()"
   ]
  },
  {
   "cell_type": "code",
   "execution_count": 70,
   "id": "6a20a822",
   "metadata": {
    "ExecuteTime": {
     "end_time": "2023-03-07T22:03:08.430036Z",
     "start_time": "2023-03-07T22:03:08.385672Z"
    }
   },
   "outputs": [
    {
     "data": {
      "text/plain": [
       "Index(['Priority', 'Component', 'text'], dtype='object')"
      ]
     },
     "execution_count": 70,
     "metadata": {},
     "output_type": "execute_result"
    }
   ],
   "source": [
    "# combine title and description columns\n",
    "df['text'] = df['Title'] + ' ' + df['Description']\n",
    "df = df.drop(columns=['Title','Description'])\n",
    "df.columns"
   ]
  },
  {
   "cell_type": "code",
   "execution_count": 71,
   "id": "af3f73d3",
   "metadata": {
    "ExecuteTime": {
     "end_time": "2023-03-07T22:03:11.829857Z",
     "start_time": "2023-03-07T22:03:11.823830Z"
    }
   },
   "outputs": [],
   "source": [
    "import html\n",
    "import re\n",
    "\n",
    "def clean(text):\n",
    "    # convert html escapes like &amp; to characters.\n",
    "    text = html.unescape(text) \n",
    "    # tags like <tab>\n",
    "    text = re.sub(r'<[^<>]*>', ' ', text)\n",
    "    # markdown URLs like [Some text](https://....)\n",
    "    text = re.sub(r'\\[([^\\[\\]]*)\\]\\([^\\(\\)]*\\)', r'\\1', text)\n",
    "    # text or code in brackets like [0]\n",
    "    text = re.sub(r'\\[[^\\[\\]]*\\]', ' ', text)\n",
    "    # standalone sequences of specials, matches &# but not #cool\n",
    "    text = re.sub(r'(?:^|\\s)[&#<>{}\\[\\]+|\\\\:-]{1,}(?:\\s|$)', ' ', text)\n",
    "    # standalone sequences of hyphens like --- or ==\n",
    "    text = re.sub(r'(?:^|\\s)[\\-=\\+]{2,}(?:\\s|$)', ' ', text)\n",
    "    # sequences of white spaces\n",
    "    text = re.sub(r'\\s+', ' ', text)\n",
    "    return text.strip()"
   ]
  },
  {
   "cell_type": "code",
   "execution_count": 82,
   "id": "0dd22a20",
   "metadata": {
    "ExecuteTime": {
     "end_time": "2023-03-07T22:05:29.913080Z",
     "start_time": "2023-03-07T22:05:29.899276Z"
    }
   },
   "outputs": [
    {
     "data": {
      "text/html": [
       "<div>\n",
       "<style scoped>\n",
       "    .dataframe tbody tr th:only-of-type {\n",
       "        vertical-align: middle;\n",
       "    }\n",
       "\n",
       "    .dataframe tbody tr th {\n",
       "        vertical-align: top;\n",
       "    }\n",
       "\n",
       "    .dataframe thead th {\n",
       "        text-align: right;\n",
       "    }\n",
       "</style>\n",
       "<table border=\"1\" class=\"dataframe\">\n",
       "  <thead>\n",
       "    <tr style=\"text-align: right;\">\n",
       "      <th></th>\n",
       "      <th>Priority</th>\n",
       "      <th>Component</th>\n",
       "      <th>text</th>\n",
       "    </tr>\n",
       "  </thead>\n",
       "  <tbody>\n",
       "    <tr>\n",
       "      <th>19271</th>\n",
       "      <td>P3</td>\n",
       "      <td>Core</td>\n",
       "      <td>[1.5] Missing receiver in parameterized message send Cheetah04; ; When parsing the following program; the receiver of parameterized message send ; is incorrectly considered as being an implicit one; where it should be name ; ref X.;       X.&lt;String;X&gt;foo(SUCCESS; null); ; Testcase:; ; public class X {; ; \\tstatic &lt;T; U&gt; T foo(T t; U u) {; \\t\\treturn t;; \\t}; \\tpublic static void main(String[] args) {; \\t\\tSystem.out.println(X.&lt;String;X&gt;foo(SUCCESS; null));; \\t}; }</td>\n",
       "    </tr>\n",
       "    <tr>\n",
       "      <th>30203</th>\n",
       "      <td>P3</td>\n",
       "      <td>UI</td>\n",
       "      <td>[create script] Select All doesnt work 20060131; - Create script; - Press Select All; nothing happens</td>\n",
       "    </tr>\n",
       "  </tbody>\n",
       "</table>\n",
       "</div>"
      ],
      "text/plain": [
       "      Priority Component  \\\n",
       "19271       P3      Core   \n",
       "30203       P3        UI   \n",
       "\n",
       "                                                                                                                                                                                                                                                                                                                                                                                                                                                                                       text  \n",
       "19271  [1.5] Missing receiver in parameterized message send Cheetah04; ; When parsing the following program; the receiver of parameterized message send ; is incorrectly considered as being an implicit one; where it should be name ; ref X.;       X.<String;X>foo(SUCCESS; null); ; Testcase:; ; public class X {; ; \\tstatic <T; U> T foo(T t; U u) {; \\t\\treturn t;; \\t}; \\tpublic static void main(String[] args) {; \\t\\tSystem.out.println(X.<String;X>foo(SUCCESS; null));; \\t}; }  \n",
       "30203                                                                                                                                                                                                                                                                                                                                                                                 [create script] Select All doesnt work 20060131; - Create script; - Press Select All; nothing happens  "
      ]
     },
     "execution_count": 82,
     "metadata": {},
     "output_type": "execute_result"
    }
   ],
   "source": [
    "df.sample(2, random_state=20)"
   ]
  },
  {
   "cell_type": "code",
   "execution_count": 85,
   "id": "a2afdaaf",
   "metadata": {
    "ExecuteTime": {
     "end_time": "2023-03-07T22:06:20.127462Z",
     "start_time": "2023-03-07T22:06:13.901065Z"
    }
   },
   "outputs": [],
   "source": [
    "df['text'] = df['text'].map(clean)\n",
    "df = df[df['text'].str.len() > 50]"
   ]
  },
  {
   "cell_type": "code",
   "execution_count": 96,
   "id": "046f0a19",
   "metadata": {
    "ExecuteTime": {
     "end_time": "2023-03-07T22:07:23.695633Z",
     "start_time": "2023-03-07T22:07:23.689458Z"
    }
   },
   "outputs": [
    {
     "data": {
      "text/plain": [
       "Priority                                                                                                                                                                                                                                                                                                                                                                                                                              P3\n",
       "Component                                                                                                                                                                                                                                                                                                                                                                                                                           Core\n",
       "text         Missing receiver in parameterized message send Cheetah04; ; When parsing the following program; the receiver of parameterized message send ; is incorrectly considered as being an implicit one; where it should be name ; ref X.; X. foo(SUCCESS; null); ; Testcase:; ; public class X {; ; static T foo(T t; U u) {; return t;; }; public static void main(String args) {; System.out.println(X. foo(SUCCESS; null));; };\n",
       "Name: 19271, dtype: object"
      ]
     },
     "execution_count": 96,
     "metadata": {},
     "output_type": "execute_result"
    }
   ],
   "source": [
    "df.loc[19271]"
   ]
  },
  {
   "cell_type": "markdown",
   "id": "26dd1d58",
   "metadata": {},
   "source": [
    "# Split data into Train and Test sets"
   ]
  },
  {
   "cell_type": "code",
   "execution_count": 98,
   "id": "0492770c",
   "metadata": {
    "ExecuteTime": {
     "end_time": "2023-03-07T22:09:31.186975Z",
     "start_time": "2023-03-07T22:09:31.183871Z"
    }
   },
   "outputs": [],
   "source": [
    "from sklearn.model_selection import train_test_split"
   ]
  },
  {
   "cell_type": "code",
   "execution_count": 99,
   "id": "25748afa",
   "metadata": {
    "ExecuteTime": {
     "end_time": "2023-03-07T22:09:32.980910Z",
     "start_time": "2023-03-07T22:09:32.913519Z"
    }
   },
   "outputs": [
    {
     "name": "stdout",
     "output_type": "stream",
     "text": [
      "Size of Training Data  36040\n",
      "Size of Test Data  9011\n"
     ]
    }
   ],
   "source": [
    "X_train, X_test, Y_train, Y_test = train_test_split(df['text'],\n",
    "                                                    df['Priority'],\n",
    "                                                    test_size=0.2,\n",
    "                                                    random_state=42,\n",
    "                                                    stratify=df['Priority'])\n",
    "\n",
    "print('Size of Training Data ', X_train.shape[0])\n",
    "print('Size of Test Data ', X_test.shape[0])"
   ]
  },
  {
   "cell_type": "markdown",
   "id": "bc7d71ae",
   "metadata": {},
   "source": [
    "# Train the model"
   ]
  },
  {
   "cell_type": "code",
   "execution_count": 100,
   "id": "7cc8950f",
   "metadata": {
    "ExecuteTime": {
     "end_time": "2023-03-07T22:10:58.662171Z",
     "start_time": "2023-03-07T22:10:58.659028Z"
    }
   },
   "outputs": [],
   "source": [
    "from sklearn.feature_extraction.text import TfidfVectorizer"
   ]
  },
  {
   "cell_type": "code",
   "execution_count": 101,
   "id": "0806d1fd",
   "metadata": {
    "ExecuteTime": {
     "end_time": "2023-03-07T22:11:59.773148Z",
     "start_time": "2023-03-07T22:11:59.769949Z"
    }
   },
   "outputs": [],
   "source": [
    "tfidf = TfidfVectorizer(min_df=10, ngram_range=(1,2), stop_words='english')"
   ]
  },
  {
   "cell_type": "markdown",
   "id": "63e2dd79",
   "metadata": {},
   "source": [
    "## Convert train text data into tfidf feature vectors"
   ]
  },
  {
   "cell_type": "code",
   "execution_count": 102,
   "id": "989f91ca",
   "metadata": {
    "ExecuteTime": {
     "end_time": "2023-03-07T22:13:18.459258Z",
     "start_time": "2023-03-07T22:13:12.050995Z"
    }
   },
   "outputs": [],
   "source": [
    "X_train_tf = tfidf.fit_transform(X_train)"
   ]
  },
  {
   "cell_type": "code",
   "execution_count": 105,
   "id": "1467ff3f",
   "metadata": {
    "ExecuteTime": {
     "end_time": "2023-03-07T22:16:34.713151Z",
     "start_time": "2023-03-07T22:16:32.538122Z"
    },
    "scrolled": true
   },
   "outputs": [
    {
     "data": {
      "text/html": [
       "<style>#sk-container-id-2 {color: black;background-color: white;}#sk-container-id-2 pre{padding: 0;}#sk-container-id-2 div.sk-toggleable {background-color: white;}#sk-container-id-2 label.sk-toggleable__label {cursor: pointer;display: block;width: 100%;margin-bottom: 0;padding: 0.3em;box-sizing: border-box;text-align: center;}#sk-container-id-2 label.sk-toggleable__label-arrow:before {content: \"▸\";float: left;margin-right: 0.25em;color: #696969;}#sk-container-id-2 label.sk-toggleable__label-arrow:hover:before {color: black;}#sk-container-id-2 div.sk-estimator:hover label.sk-toggleable__label-arrow:before {color: black;}#sk-container-id-2 div.sk-toggleable__content {max-height: 0;max-width: 0;overflow: hidden;text-align: left;background-color: #f0f8ff;}#sk-container-id-2 div.sk-toggleable__content pre {margin: 0.2em;color: black;border-radius: 0.25em;background-color: #f0f8ff;}#sk-container-id-2 input.sk-toggleable__control:checked~div.sk-toggleable__content {max-height: 200px;max-width: 100%;overflow: auto;}#sk-container-id-2 input.sk-toggleable__control:checked~label.sk-toggleable__label-arrow:before {content: \"▾\";}#sk-container-id-2 div.sk-estimator input.sk-toggleable__control:checked~label.sk-toggleable__label {background-color: #d4ebff;}#sk-container-id-2 div.sk-label input.sk-toggleable__control:checked~label.sk-toggleable__label {background-color: #d4ebff;}#sk-container-id-2 input.sk-hidden--visually {border: 0;clip: rect(1px 1px 1px 1px);clip: rect(1px, 1px, 1px, 1px);height: 1px;margin: -1px;overflow: hidden;padding: 0;position: absolute;width: 1px;}#sk-container-id-2 div.sk-estimator {font-family: monospace;background-color: #f0f8ff;border: 1px dotted black;border-radius: 0.25em;box-sizing: border-box;margin-bottom: 0.5em;}#sk-container-id-2 div.sk-estimator:hover {background-color: #d4ebff;}#sk-container-id-2 div.sk-parallel-item::after {content: \"\";width: 100%;border-bottom: 1px solid gray;flex-grow: 1;}#sk-container-id-2 div.sk-label:hover label.sk-toggleable__label {background-color: #d4ebff;}#sk-container-id-2 div.sk-serial::before {content: \"\";position: absolute;border-left: 1px solid gray;box-sizing: border-box;top: 0;bottom: 0;left: 50%;z-index: 0;}#sk-container-id-2 div.sk-serial {display: flex;flex-direction: column;align-items: center;background-color: white;padding-right: 0.2em;padding-left: 0.2em;position: relative;}#sk-container-id-2 div.sk-item {position: relative;z-index: 1;}#sk-container-id-2 div.sk-parallel {display: flex;align-items: stretch;justify-content: center;background-color: white;position: relative;}#sk-container-id-2 div.sk-item::before, #sk-container-id-2 div.sk-parallel-item::before {content: \"\";position: absolute;border-left: 1px solid gray;box-sizing: border-box;top: 0;bottom: 0;left: 50%;z-index: -1;}#sk-container-id-2 div.sk-parallel-item {display: flex;flex-direction: column;z-index: 1;position: relative;background-color: white;}#sk-container-id-2 div.sk-parallel-item:first-child::after {align-self: flex-end;width: 50%;}#sk-container-id-2 div.sk-parallel-item:last-child::after {align-self: flex-start;width: 50%;}#sk-container-id-2 div.sk-parallel-item:only-child::after {width: 0;}#sk-container-id-2 div.sk-dashed-wrapped {border: 1px dashed gray;margin: 0 0.4em 0.5em 0.4em;box-sizing: border-box;padding-bottom: 0.4em;background-color: white;}#sk-container-id-2 div.sk-label label {font-family: monospace;font-weight: bold;display: inline-block;line-height: 1.2em;}#sk-container-id-2 div.sk-label-container {text-align: center;}#sk-container-id-2 div.sk-container {/* jupyter's `normalize.less` sets `[hidden] { display: none; }` but bootstrap.min.css set `[hidden] { display: none !important; }` so we also need the `!important` here to be able to override the default hidden behavior on the sphinx rendered scikit-learn.org. See: https://github.com/scikit-learn/scikit-learn/issues/21755 */display: inline-block !important;position: relative;}#sk-container-id-2 div.sk-text-repr-fallback {display: none;}</style><div id=\"sk-container-id-2\" class=\"sk-top-container\"><div class=\"sk-text-repr-fallback\"><pre>LinearSVC(random_state=0, tol=1e-05)</pre><b>In a Jupyter environment, please rerun this cell to show the HTML representation or trust the notebook. <br />On GitHub, the HTML representation is unable to render, please try loading this page with nbviewer.org.</b></div><div class=\"sk-container\" hidden><div class=\"sk-item\"><div class=\"sk-estimator sk-toggleable\"><input class=\"sk-toggleable__control sk-hidden--visually\" id=\"sk-estimator-id-2\" type=\"checkbox\" checked><label for=\"sk-estimator-id-2\" class=\"sk-toggleable__label sk-toggleable__label-arrow\">LinearSVC</label><div class=\"sk-toggleable__content\"><pre>LinearSVC(random_state=0, tol=1e-05)</pre></div></div></div></div></div>"
      ],
      "text/plain": [
       "LinearSVC(random_state=0, tol=1e-05)"
      ]
     },
     "execution_count": 105,
     "metadata": {},
     "output_type": "execute_result"
    }
   ],
   "source": [
    "from sklearn.svm import LinearSVC\n",
    "\n",
    "model1 = LinearSVC(random_state=0, tol=1e-5)\n",
    "model1.fit(X_train_tf, Y_train)"
   ]
  },
  {
   "cell_type": "markdown",
   "id": "03da4966",
   "metadata": {},
   "source": [
    "# Evaluate the model"
   ]
  },
  {
   "cell_type": "code",
   "execution_count": 106,
   "id": "f2d1bf40",
   "metadata": {
    "ExecuteTime": {
     "end_time": "2023-03-07T22:17:30.506669Z",
     "start_time": "2023-03-07T22:17:29.068715Z"
    }
   },
   "outputs": [],
   "source": [
    "# Transform test data to tfidf vectors\n",
    "X_test_tf = tfidf.transform(X_test)"
   ]
  },
  {
   "cell_type": "code",
   "execution_count": 107,
   "id": "c3223039",
   "metadata": {
    "ExecuteTime": {
     "end_time": "2023-03-07T22:18:20.419552Z",
     "start_time": "2023-03-07T22:18:20.399248Z"
    }
   },
   "outputs": [],
   "source": [
    "Y_pred = model1.predict(X_test_tf)"
   ]
  },
  {
   "cell_type": "code",
   "execution_count": 109,
   "id": "f88d84ed",
   "metadata": {
    "ExecuteTime": {
     "end_time": "2023-03-07T22:20:43.552905Z",
     "start_time": "2023-03-07T22:20:43.549836Z"
    }
   },
   "outputs": [],
   "source": [
    "from sklearn.metrics import accuracy_score, confusion_matrix, classification_report, ConfusionMatrixDisplay"
   ]
  },
  {
   "cell_type": "code",
   "execution_count": 110,
   "id": "859405d8",
   "metadata": {
    "ExecuteTime": {
     "end_time": "2023-03-07T22:26:40.478518Z",
     "start_time": "2023-03-07T22:26:40.453431Z"
    }
   },
   "outputs": [
    {
     "name": "stdout",
     "output_type": "stream",
     "text": [
      "Accuracy Score -  0.8759294195982688\n"
     ]
    }
   ],
   "source": [
    "print ('Accuracy Score - ', accuracy_score(Y_test, Y_pred))"
   ]
  },
  {
   "cell_type": "code",
   "execution_count": 112,
   "id": "f0c0ba3d",
   "metadata": {
    "ExecuteTime": {
     "end_time": "2023-03-07T22:28:42.236532Z",
     "start_time": "2023-03-07T22:28:42.233226Z"
    }
   },
   "outputs": [],
   "source": [
    "from sklearn.dummy import DummyClassifier\n",
    "clf = DummyClassifier(strategy='most_frequent', random_state=42) # Always predicts the most frequent label"
   ]
  },
  {
   "cell_type": "code",
   "execution_count": 113,
   "id": "7c41d07d",
   "metadata": {
    "ExecuteTime": {
     "end_time": "2023-03-07T22:28:42.464473Z",
     "start_time": "2023-03-07T22:28:42.430812Z"
    }
   },
   "outputs": [
    {
     "name": "stdout",
     "output_type": "stream",
     "text": [
      "Accuracy Score -  0.8769281988680502\n"
     ]
    }
   ],
   "source": [
    "clf.fit(X_train, Y_train)\n",
    "Y_pred_baseline = clf.predict(X_test)\n",
    "print ('Accuracy Score - ', accuracy_score(Y_test, Y_pred_baseline))"
   ]
  },
  {
   "cell_type": "markdown",
   "id": "6071a886",
   "metadata": {},
   "source": [
    "## Precision and Recall"
   ]
  },
  {
   "cell_type": "code",
   "execution_count": 119,
   "id": "c03900dd",
   "metadata": {
    "ExecuteTime": {
     "end_time": "2023-03-07T22:32:16.728894Z",
     "start_time": "2023-03-07T22:32:16.687659Z"
    }
   },
   "outputs": [
    {
     "data": {
      "text/plain": [
       "array([[  20,    1,  198,    4,    0],\n",
       "       [   6,   18,  576,    8,    0],\n",
       "       [   8,   51, 7824,   19,    0],\n",
       "       [   0,    5,  192,   31,    0],\n",
       "       [   0,    0,   50,    0,    0]])"
      ]
     },
     "execution_count": 119,
     "metadata": {},
     "output_type": "execute_result"
    }
   ],
   "source": [
    "cm = confusion_matrix(Y_test, Y_pred)\n",
    "cm"
   ]
  },
  {
   "cell_type": "code",
   "execution_count": 166,
   "id": "cc8983d6",
   "metadata": {
    "ExecuteTime": {
     "end_time": "2023-03-07T23:00:39.755827Z",
     "start_time": "2023-03-07T23:00:39.619565Z"
    }
   },
   "outputs": [
    {
     "data": {
      "image/png": "[encoded data removed]",
      "text/plain": [
       "<Figure size 640x480 with 2 Axes>"
      ]
     },
     "metadata": {},
     "output_type": "display_data"
    }
   ],
   "source": [
    "ConfusionMatrixDisplay(cm, display_labels=model1.classes_).plot(cmap=plt.cm.Blues);"
   ]
  },
  {
   "cell_type": "code",
   "execution_count": 170,
   "id": "975979b1",
   "metadata": {
    "ExecuteTime": {
     "end_time": "2023-03-07T23:01:34.834320Z",
     "start_time": "2023-03-07T23:01:34.830726Z"
    }
   },
   "outputs": [],
   "source": [
    "# import matplotlib.pyplot as plt\n",
    "# ConfusionMatrixDisplay.from_estimator(model1, X_test_tf, Y_test, cmap=plt.cm.Blues);\n",
    "# ConfusionMatrixDisplay.from_estimator(clf, X_test_tf, Y_test, cmap=plt.cm.Blues);"
   ]
  },
  {
   "cell_type": "code",
   "execution_count": 178,
   "id": "fd387430",
   "metadata": {
    "ExecuteTime": {
     "end_time": "2023-03-07T23:03:05.131217Z",
     "start_time": "2023-03-07T23:03:04.969362Z"
    }
   },
   "outputs": [
    {
     "name": "stdout",
     "output_type": "stream",
     "text": [
      "              precision    recall  f1-score   support\n",
      "\n",
      "          P1       0.59      0.09      0.16       223\n",
      "          P2       0.24      0.03      0.05       608\n",
      "          P3       0.89      0.99      0.93      7902\n",
      "          P4       0.50      0.14      0.21       228\n",
      "          P5       0.00      0.00      0.00        50\n",
      "\n",
      "    accuracy                           0.88      9011\n",
      "   macro avg       0.44      0.25      0.27      9011\n",
      "weighted avg       0.82      0.88      0.83      9011\n",
      "\n"
     ]
    }
   ],
   "source": [
    "print(classification_report(Y_test, Y_pred, zero_division=0))"
   ]
  },
  {
   "cell_type": "markdown",
   "id": "042f1834",
   "metadata": {},
   "source": [
    "# Handle  Class Imbalance"
   ]
  },
  {
   "cell_type": "code",
   "execution_count": 182,
   "id": "a5a71975",
   "metadata": {
    "ExecuteTime": {
     "end_time": "2023-03-07T23:04:07.332467Z",
     "start_time": "2023-03-07T23:04:07.321342Z"
    }
   },
   "outputs": [
    {
     "data": {
      "text/plain": [
       "P3    39506\n",
       "P2     3038\n",
       "P4     1138\n",
       "P1     1117\n",
       "P5      252\n",
       "Name: Priority, dtype: int64"
      ]
     },
     "execution_count": 182,
     "metadata": {},
     "output_type": "execute_result"
    }
   ],
   "source": [
    "df['Priority'].value_counts()"
   ]
  },
  {
   "cell_type": "markdown",
   "id": "58a110ba",
   "metadata": {
    "ExecuteTime": {
     "end_time": "2023-03-07T23:19:26.475936Z",
     "start_time": "2023-03-07T23:19:26.470468Z"
    }
   },
   "source": [
    "## Undersampling"
   ]
  },
  {
   "cell_type": "code",
   "execution_count": 184,
   "id": "e4aa5732",
   "metadata": {
    "ExecuteTime": {
     "end_time": "2023-03-07T23:19:41.018344Z",
     "start_time": "2023-03-07T23:19:40.959260Z"
    }
   },
   "outputs": [
    {
     "data": {
      "text/plain": [
       "P3    4000\n",
       "P2    3038\n",
       "P4    1138\n",
       "P1    1117\n",
       "P5     252\n",
       "Name: Priority, dtype: int64"
      ]
     },
     "execution_count": 184,
     "metadata": {},
     "output_type": "execute_result"
    }
   ],
   "source": [
    "# Filter bug reports with priority P3 and sample 4000 rows from it\n",
    "df_sampleP3 = df[df['Priority'] == 'P3'].sample(n=4000, random_state=123)\n",
    "\n",
    "# Create a separate dataframe containing all other bug reports\n",
    "df_sampleRest = df[df['Priority'] != 'P3']\n",
    "\n",
    "# Concatenate the two dataframes to create the new balanced bug reports dataset\n",
    "df_balanced = pd.concat([df_sampleRest, df_sampleP3])\n",
    "\n",
    "# Check the status of the class imbalance\n",
    "df_balanced['Priority'].value_counts()"
   ]
  },
  {
   "cell_type": "code",
   "execution_count": 187,
   "id": "416b702d",
   "metadata": {
    "ExecuteTime": {
     "end_time": "2023-03-07T23:24:17.154123Z",
     "start_time": "2023-03-07T23:24:15.837852Z"
    }
   },
   "outputs": [
    {
     "name": "stdout",
     "output_type": "stream",
     "text": [
      "Size of Training Data  7636\n",
      "Size of Test Data  1909\n",
      "Accuracy Score -  0.5034049240440021\n",
      "              precision    recall  f1-score   support\n",
      "\n",
      "          P1       0.44      0.29      0.35       223\n",
      "          P2       0.45      0.48      0.46       608\n",
      "          P3       0.56      0.66      0.61       800\n",
      "          P4       0.47      0.34      0.39       228\n",
      "          P5       0.00      0.00      0.00        50\n",
      "\n",
      "    accuracy                           0.50      1909\n",
      "   macro avg       0.38      0.35      0.36      1909\n",
      "weighted avg       0.49      0.50      0.49      1909\n",
      "\n"
     ]
    }
   ],
   "source": [
    "# Load balanced dataset\n",
    "df = df_balanced[['text', 'Priority', 'Component']]\n",
    "\n",
    "# split train, test data\n",
    "X_train, X_test, Y_train, Y_test = train_test_split(df['text'],\n",
    "                                                    df['Priority'],\n",
    "                                                    test_size=0.2,\n",
    "                                                    random_state=42,\n",
    "                                                    stratify=df['Priority'])\n",
    "\n",
    "print('Size of Training Data ', X_train.shape[0])\n",
    "print('Size of Test Data ', X_test.shape[0])\n",
    "\n",
    "# Train the model\n",
    "tfidf = TfidfVectorizer(min_df=10, ngram_range=(1, 2), stop_words=\"english\")\n",
    "X_train_tf = tfidf.fit_transform(X_train)\n",
    "\n",
    "model1 = LinearSVC(random_state=0, tol=1e-5)\n",
    "model1.fit(X_train_tf, Y_train)\n",
    "\n",
    "# Evaluate the model\n",
    "X_test_tf = tfidf.transform(X_test)\n",
    "Y_pred = model1.predict(X_test_tf)\n",
    "\n",
    "print('Accuracy Score - ', accuracy_score(Y_test, Y_pred))\n",
    "print(classification_report(Y_test, Y_pred))"
   ]
  },
  {
   "cell_type": "markdown",
   "id": "e6597ad6",
   "metadata": {},
   "source": [
    "# Cross-Validation"
   ]
  },
  {
   "cell_type": "code",
   "execution_count": 189,
   "id": "e70c2b31",
   "metadata": {
    "ExecuteTime": {
     "end_time": "2023-03-07T23:26:43.748995Z",
     "start_time": "2023-03-07T23:26:38.296600Z"
    }
   },
   "outputs": [
    {
     "name": "stdout",
     "output_type": "stream",
     "text": [
      "Validation scores from each iteration of the cross validation  [0.48245155 0.45259298 0.44002095 0.42221058 0.37297014]\n",
      "Mean value across of validation scores  0.43404924044002097\n",
      "Standard deviation of validation scores  0.03631287637702657\n"
     ]
    }
   ],
   "source": [
    "from sklearn.model_selection import cross_val_score\n",
    "\n",
    "# Vectorization\n",
    "\n",
    "tfidf = TfidfVectorizer(min_df = 10, ngram_range=(1,2), stop_words=\"english\")\n",
    "df_tf = tfidf.fit_transform(df['text']).toarray()\n",
    "\n",
    "# Cross Validation with 5 folds\n",
    "\n",
    "scores = cross_val_score(estimator=model1,\n",
    "                         X=df_tf,\n",
    "                         y=df['Priority'],\n",
    "                         cv=5)\n",
    "\n",
    "print (\"Validation scores from each iteration of the cross validation \", scores)\n",
    "print (\"Mean value across of validation scores \", scores.mean())\n",
    "print (\"Standard deviation of validation scores \", scores.std())"
   ]
  },
  {
   "cell_type": "markdown",
   "id": "4f5f346f",
   "metadata": {},
   "source": [
    "# Hyperparameter Tuning with Grid Search"
   ]
  },
  {
   "cell_type": "code",
   "execution_count": 190,
   "id": "3f542307",
   "metadata": {
    "ExecuteTime": {
     "end_time": "2023-03-07T23:27:32.139396Z",
     "start_time": "2023-03-07T23:27:32.134092Z"
    }
   },
   "outputs": [],
   "source": [
    "from sklearn.model_selection import GridSearchCV\n",
    "from sklearn.pipeline import Pipeline"
   ]
  },
  {
   "cell_type": "code",
   "execution_count": 191,
   "id": "bdce5e1a",
   "metadata": {
    "ExecuteTime": {
     "end_time": "2023-03-07T23:34:27.736464Z",
     "start_time": "2023-03-07T23:28:23.545866Z"
    }
   },
   "outputs": [
    {
     "name": "stdout",
     "output_type": "stream",
     "text": [
      "Best alpha parameter identified by grid search  {'model__loss': 'hinge', 'model__max_iter': 10000, 'model__penalty': 'l2', 'tfidf__min_df': 10, 'tfidf__ngram_range': (1, 3)}\n",
      "Best result identified by grid search  0.46034573074908325\n"
     ]
    }
   ],
   "source": [
    "training_pipeline = Pipeline(\n",
    "    steps=[('tfidf', TfidfVectorizer(stop_words=\"english\")), \n",
    "           ('model', LinearSVC(random_state=21, tol=1e-5))])\n",
    "\n",
    "grid_param = [{\n",
    "    'tfidf__min_df': [5, 10],\n",
    "    'tfidf__ngram_range': [(1, 3), (1, 6)],\n",
    "    'model__penalty': ['l2'],\n",
    "    'model__loss': ['hinge'],\n",
    "    'model__max_iter': [10000]\n",
    "}, {\n",
    "    'tfidf__min_df': [5, 10],\n",
    "    'tfidf__ngram_range': [(1, 3), (1, 6)],\n",
    "    'model__C': [1, 10],\n",
    "    'model__tol': [1e-2, 1e-3]\n",
    "}]\n",
    "\n",
    "gridSearchProcessor = GridSearchCV(estimator=training_pipeline,\n",
    "                                   param_grid=grid_param,\n",
    "                                   cv=5)\n",
    "gridSearchProcessor.fit(df['text'], df['Priority'])\n",
    "\n",
    "best_params = gridSearchProcessor.best_params_\n",
    "print(\"Best alpha parameter identified by grid search \", best_params)\n",
    "\n",
    "best_result = gridSearchProcessor.best_score_\n",
    "print(\"Best result identified by grid search \", best_result)"
   ]
  },
  {
   "cell_type": "code",
   "execution_count": 192,
   "id": "2f208327",
   "metadata": {
    "ExecuteTime": {
     "end_time": "2023-03-07T23:39:48.612492Z",
     "start_time": "2023-03-07T23:39:48.584655Z"
    }
   },
   "outputs": [
    {
     "data": {
      "text/html": [
       "<div>\n",
       "<style scoped>\n",
       "    .dataframe tbody tr th:only-of-type {\n",
       "        vertical-align: middle;\n",
       "    }\n",
       "\n",
       "    .dataframe tbody tr th {\n",
       "        vertical-align: top;\n",
       "    }\n",
       "\n",
       "    .dataframe thead th {\n",
       "        text-align: right;\n",
       "    }\n",
       "</style>\n",
       "<table border=\"1\" class=\"dataframe\">\n",
       "  <thead>\n",
       "    <tr style=\"text-align: right;\">\n",
       "      <th></th>\n",
       "      <th>rank_test_score</th>\n",
       "      <th>mean_test_score</th>\n",
       "      <th>params</th>\n",
       "    </tr>\n",
       "  </thead>\n",
       "  <tbody>\n",
       "    <tr>\n",
       "      <th>2</th>\n",
       "      <td>1</td>\n",
       "      <td>0.460346</td>\n",
       "      <td>{'model__loss': 'hinge', 'model__max_iter': 10000, 'model__penalty': 'l2', 'tfidf__min_df': 10, 'tfidf__ngram_range': (1, 3)}</td>\n",
       "    </tr>\n",
       "    <tr>\n",
       "      <th>0</th>\n",
       "      <td>2</td>\n",
       "      <td>0.459298</td>\n",
       "      <td>{'model__loss': 'hinge', 'model__max_iter': 10000, 'model__penalty': 'l2', 'tfidf__min_df': 5, 'tfidf__ngram_range': (1, 3)}</td>\n",
       "    </tr>\n",
       "    <tr>\n",
       "      <th>1</th>\n",
       "      <td>3</td>\n",
       "      <td>0.457831</td>\n",
       "      <td>{'model__loss': 'hinge', 'model__max_iter': 10000, 'model__penalty': 'l2', 'tfidf__min_df': 5, 'tfidf__ngram_range': (1, 6)}</td>\n",
       "    </tr>\n",
       "    <tr>\n",
       "      <th>3</th>\n",
       "      <td>4</td>\n",
       "      <td>0.456888</td>\n",
       "      <td>{'model__loss': 'hinge', 'model__max_iter': 10000, 'model__penalty': 'l2', 'tfidf__min_df': 10, 'tfidf__ngram_range': (1, 6)}</td>\n",
       "    </tr>\n",
       "    <tr>\n",
       "      <th>4</th>\n",
       "      <td>5</td>\n",
       "      <td>0.439497</td>\n",
       "      <td>{'model__C': 1, 'model__tol': 0.01, 'tfidf__min_df': 5, 'tfidf__ngram_range': (1, 3)}</td>\n",
       "    </tr>\n",
       "  </tbody>\n",
       "</table>\n",
       "</div>"
      ],
      "text/plain": [
       "   rank_test_score  mean_test_score  \\\n",
       "2                1         0.460346   \n",
       "0                2         0.459298   \n",
       "1                3         0.457831   \n",
       "3                4         0.456888   \n",
       "4                5         0.439497   \n",
       "\n",
       "                                                                                                                          params  \n",
       "2  {'model__loss': 'hinge', 'model__max_iter': 10000, 'model__penalty': 'l2', 'tfidf__min_df': 10, 'tfidf__ngram_range': (1, 3)}  \n",
       "0   {'model__loss': 'hinge', 'model__max_iter': 10000, 'model__penalty': 'l2', 'tfidf__min_df': 5, 'tfidf__ngram_range': (1, 3)}  \n",
       "1   {'model__loss': 'hinge', 'model__max_iter': 10000, 'model__penalty': 'l2', 'tfidf__min_df': 5, 'tfidf__ngram_range': (1, 6)}  \n",
       "3  {'model__loss': 'hinge', 'model__max_iter': 10000, 'model__penalty': 'l2', 'tfidf__min_df': 10, 'tfidf__ngram_range': (1, 6)}  \n",
       "4                                          {'model__C': 1, 'model__tol': 0.01, 'tfidf__min_df': 5, 'tfidf__ngram_range': (1, 3)}  "
      ]
     },
     "execution_count": 192,
     "metadata": {},
     "output_type": "execute_result"
    }
   ],
   "source": [
    "gridsearch_results = pd.DataFrame(gridSearchProcessor.cv_results_)\n",
    "gridsearch_results[['rank_test_score', 'mean_test_score', 'params']].sort_values(by=['rank_test_score'])[:5]"
   ]
  },
  {
   "cell_type": "code",
   "execution_count": null,
   "id": "989b1130",
   "metadata": {},
   "outputs": [],
   "source": []
  }
 ],
 "metadata": {
  "hide_input": false,
  "kernelspec": {
   "display_name": "Python 3 (ipykernel)",
   "language": "python",
   "name": "python3"
  },
  "language_info": {
   "codemirror_mode": {
    "name": "ipython",
    "version": 3
   },
   "file_extension": ".py",
   "mimetype": "text/x-python",
   "name": "python",
   "nbconvert_exporter": "python",
   "pygments_lexer": "ipython3",
   "version": "3.8.16"
  },
  "toc": {
   "base_numbering": 1,
   "nav_menu": {},
   "number_sections": true,
   "sideBar": true,
   "skip_h1_title": false,
   "title_cell": "Table of Contents",
   "title_sidebar": "Contents",
   "toc_cell": false,
   "toc_position": {},
   "toc_section_display": true,
   "toc_window_display": false
  },
  "varInspector": {
   "cols": {
    "lenName": 16,
    "lenType": 16,
    "lenVar": 40
   },
   "kernels_config": {
    "python": {
     "delete_cmd_postfix": "",
     "delete_cmd_prefix": "del ",
     "library": "var_list.py",
     "varRefreshCmd": "print(var_dic_list())"
    },
    "r": {
     "delete_cmd_postfix": ") ",
     "delete_cmd_prefix": "rm(",
     "library": "var_list.r",
     "varRefreshCmd": "cat(var_dic_list()) "
    }
   },
   "types_to_exclude": [
    "module",
    "function",
    "builtin_function_or_method",
    "instance",
    "_Feature"
   ],
   "window_display": false
  }
 },
 "nbformat": 4,
 "nbformat_minor": 5
}
